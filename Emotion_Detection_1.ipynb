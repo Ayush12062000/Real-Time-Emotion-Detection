{
  "nbformat": 4,
  "nbformat_minor": 0,
  "metadata": {
    "colab": {
      "name": "Emotion_Detection_1.ipynb",
      "provenance": [],
      "collapsed_sections": []
    },
    "kernelspec": {
      "name": "python3",
      "display_name": "Python 3"
    },
    "accelerator": "GPU"
  },
  "cells": [
    {
      "cell_type": "markdown",
      "metadata": {
        "id": "JxB0El3YTeeY"
      },
      "source": [
        "**Import Required Libraries**"
      ]
    },
    {
      "cell_type": "code",
      "metadata": {
        "id": "rIiu3R4bzamb"
      },
      "source": [
        "import sys,os\n",
        "import tensorflow as tf\n",
        "import matplotlib.pyplot as plt\n",
        "import numpy as np\n",
        "import pandas as pd\n",
        "import keras\n",
        "from keras.models import Sequential \n",
        "from keras.layers import Dense, Dropout, Activation, Flatten  \n",
        "from keras.layers import Conv2D, MaxPooling2D, BatchNormalization,AveragePooling2D\n",
        "from keras.losses import categorical_crossentropy  \n",
        "from keras.optimizers import Adam  \n",
        "from keras.regularizers import l2 \n",
        "from keras.utils import np_utils"
      ],
      "execution_count": 1,
      "outputs": []
    },
    {
      "cell_type": "markdown",
      "metadata": {
        "id": "hmVKriscTp9v"
      },
      "source": [
        "**Loading, Reading, and Pre-Processing Dataset**"
      ]
    },
    {
      "cell_type": "code",
      "metadata": {
        "id": "nX7XB-Eiz8dC",
        "colab": {
          "base_uri": "https://localhost:8080/"
        },
        "outputId": "1dc5222e-dfb4-49da-ff99-4b75b276a7e1"
      },
      "source": [
        "from google.colab import drive\n",
        "drive.mount('/content/drive')"
      ],
      "execution_count": 2,
      "outputs": [
        {
          "output_type": "stream",
          "text": [
            "Drive already mounted at /content/drive; to attempt to forcibly remount, call drive.mount(\"/content/drive\", force_remount=True).\n"
          ],
          "name": "stdout"
        }
      ]
    },
    {
      "cell_type": "code",
      "metadata": {
        "id": "RHBkBf-10i_z"
      },
      "source": [
        "os.chdir(\"/content/drive/My Drive/Emotion Detection\")"
      ],
      "execution_count": 3,
      "outputs": []
    },
    {
      "cell_type": "code",
      "metadata": {
        "id": "C88o_Lmf0v_T",
        "colab": {
          "base_uri": "https://localhost:8080/"
        },
        "outputId": "039c6907-ef0b-4ebd-9227-3ded489d4862"
      },
      "source": [
        "os.listdir()"
      ],
      "execution_count": 4,
      "outputs": [
        {
          "output_type": "execute_result",
          "data": {
            "text/plain": [
              "['archive.zip',\n",
              " 'm.json',\n",
              " 'Detection_Emotion.h5',\n",
              " 'Emotion_detection.mp4',\n",
              " 'Emotion_Detection_1.ipynb',\n",
              " 'Real_Time_Detection.py',\n",
              " 'AyushKesarwani_Emotion_Detection_Synopsis.pdf',\n",
              " 'Explanation_Emotion_Detection_AyushKesarwani_1018652.pdf']"
            ]
          },
          "metadata": {
            "tags": []
          },
          "execution_count": 4
        }
      ]
    },
    {
      "cell_type": "code",
      "metadata": {
        "id": "WNsyp0Jd0x41",
        "colab": {
          "base_uri": "https://localhost:8080/"
        },
        "outputId": "4f1b3c0f-342b-4852-e337-cad3d1fba52e"
      },
      "source": [
        "df = pd.read_csv(\"archive.zip\")\n",
        "print(df)"
      ],
      "execution_count": 5,
      "outputs": [
        {
          "output_type": "stream",
          "text": [
            "       emotion                                             pixels        Usage\n",
            "0            0  70 80 82 72 58 58 60 63 54 58 60 48 89 115 121...     Training\n",
            "1            0  151 150 147 155 148 133 111 140 170 174 182 15...     Training\n",
            "2            2  231 212 156 164 174 138 161 173 182 200 106 38...     Training\n",
            "3            4  24 32 36 30 32 23 19 20 30 41 21 22 32 34 21 1...     Training\n",
            "4            6  4 0 0 0 0 0 0 0 0 0 0 0 3 15 23 28 48 50 58 84...     Training\n",
            "...        ...                                                ...          ...\n",
            "35882        6  50 36 17 22 23 29 33 39 34 37 37 37 39 43 48 5...  PrivateTest\n",
            "35883        3  178 174 172 173 181 188 191 194 196 199 200 20...  PrivateTest\n",
            "35884        0  17 17 16 23 28 22 19 17 25 26 20 24 31 19 27 9...  PrivateTest\n",
            "35885        3  30 28 28 29 31 30 42 68 79 81 77 67 67 71 63 6...  PrivateTest\n",
            "35886        2  19 13 14 12 13 16 21 33 50 57 71 84 97 108 122...  PrivateTest\n",
            "\n",
            "[35887 rows x 3 columns]\n"
          ],
          "name": "stdout"
        }
      ]
    },
    {
      "cell_type": "code",
      "metadata": {
        "id": "CFEZP00j01t3",
        "colab": {
          "base_uri": "https://localhost:8080/"
        },
        "outputId": "328556cf-42c4-4e4a-b6b5-92d0fab16303"
      },
      "source": [
        "df.info()"
      ],
      "execution_count": 6,
      "outputs": [
        {
          "output_type": "stream",
          "text": [
            "<class 'pandas.core.frame.DataFrame'>\n",
            "RangeIndex: 35887 entries, 0 to 35886\n",
            "Data columns (total 3 columns):\n",
            " #   Column   Non-Null Count  Dtype \n",
            "---  ------   --------------  ----- \n",
            " 0   emotion  35887 non-null  int64 \n",
            " 1   pixels   35887 non-null  object\n",
            " 2   Usage    35887 non-null  object\n",
            "dtypes: int64(1), object(2)\n",
            "memory usage: 841.2+ KB\n"
          ],
          "name": "stdout"
        }
      ]
    },
    {
      "cell_type": "code",
      "metadata": {
        "id": "_V8cgNmp05eg"
      },
      "source": [
        "X_train,train_y,X_test,test_y=[],[],[],[]  \n",
        "\n",
        "for index, row in df.iterrows():  \n",
        "    val=row['pixels'].split(\" \")  \n",
        "    if 'Training' in row['Usage']:\n",
        "      X_train.append(np.array(val,'float32'))  \n",
        "      train_y.append(row['emotion'])  \n",
        "    elif 'PublicTest' in row['Usage']:  \n",
        "      X_test.append(np.array(val,'float32'))  \n",
        "      test_y.append(row['emotion']) "
      ],
      "execution_count": 7,
      "outputs": []
    },
    {
      "cell_type": "code",
      "metadata": {
        "id": "As7tSc3G09d8"
      },
      "source": [
        "num_features = 64  \n",
        "num_labels = 7  \n",
        "batch_size = 64  \n",
        "epochs = 175\n",
        "width, height = 48, 48  \n",
        "\n",
        "\n",
        "X_train = np.array(X_train,'float32')  \n",
        "train_y = np.array(train_y,'float32')  \n",
        "X_test = np.array(X_test,'float32')  \n",
        "test_y = np.array(test_y,'float32')  \n",
        "\n",
        "train_y=np_utils.to_categorical(train_y, num_classes=num_labels)  \n",
        "test_y=np_utils.to_categorical(test_y, num_classes=num_labels)  "
      ],
      "execution_count": 8,
      "outputs": []
    },
    {
      "cell_type": "code",
      "metadata": {
        "id": "TpQHVvMs1Ck-"
      },
      "source": [
        "X_train -= np.mean(X_train, axis=0)  \n",
        "X_train /= np.std(X_train, axis=0)  \n",
        "\n",
        "X_test -= np.mean(X_test, axis=0)  \n",
        "X_test /= np.std(X_test, axis=0)  \n",
        "\n",
        "X_train = X_train.reshape(X_train.shape[0], 48, 48, 1)  \n",
        "\n",
        "X_test = X_test.reshape(X_test.shape[0], 48, 48, 1) "
      ],
      "execution_count": 9,
      "outputs": []
    },
    {
      "cell_type": "markdown",
      "metadata": {
        "id": "CogiK5dPUvoU"
      },
      "source": [
        "**Building Model**"
      ]
    },
    {
      "cell_type": "code",
      "metadata": {
        "id": "vKIZx0_I1GJ_",
        "colab": {
          "base_uri": "https://localhost:8080/"
        },
        "outputId": "2f896fbd-b5e4-49c3-d879-466ad374e731"
      },
      "source": [
        "model = Sequential()  \n",
        "\n",
        "model.add(Conv2D(64, kernel_size=(3, 3), activation='relu', input_shape=(X_train.shape[1:]), padding='same'))  \n",
        "model.add(Conv2D(64,kernel_size= (3, 3), activation='relu', padding='same'))  \n",
        "model.add(BatchNormalization())  \n",
        "model.add(MaxPooling2D(pool_size=(2,2)))  \n",
        "model.add(Dropout(0.3))  \n",
        "\n",
        "#2nd convolution layer  \n",
        "model.add(Conv2D(64, (3, 3), activation='relu', padding='same'))  \n",
        "model.add(Conv2D(64, (3, 3), activation='relu', padding='same'))  \n",
        "model.add(BatchNormalization())  \n",
        "model.add(MaxPooling2D(pool_size=(2,2)))  \n",
        "model.add(Dropout(0.3))  \n",
        "\n",
        "#3rd convolution layer  \n",
        "model.add(Conv2D(128, (3, 3), activation='relu', padding='same'))  \n",
        "model.add(Conv2D(128, (3, 3), activation='relu', padding='same'))  \n",
        "model.add(BatchNormalization())  \n",
        "model.add(MaxPooling2D(pool_size=(2,2)))  \n",
        "\n",
        "model.add(Flatten())  \n",
        "\n",
        "#fully connected neural networks  \n",
        "#model.add(Dense(1024, activation='relu'))  \n",
        "#model.add(Dropout(0.2))  \n",
        "#model.add(Dense(1024, activation='relu'))  \n",
        "#model.add(Dropout(0.2))  \n",
        "\n",
        "model.add(Dense(num_labels, activation='softmax'))  \n",
        "\n",
        "model.summary() "
      ],
      "execution_count": 10,
      "outputs": [
        {
          "output_type": "stream",
          "text": [
            "Model: \"sequential\"\n",
            "_________________________________________________________________\n",
            "Layer (type)                 Output Shape              Param #   \n",
            "=================================================================\n",
            "conv2d (Conv2D)              (None, 48, 48, 64)        640       \n",
            "_________________________________________________________________\n",
            "conv2d_1 (Conv2D)            (None, 48, 48, 64)        36928     \n",
            "_________________________________________________________________\n",
            "batch_normalization (BatchNo (None, 48, 48, 64)        256       \n",
            "_________________________________________________________________\n",
            "max_pooling2d (MaxPooling2D) (None, 24, 24, 64)        0         \n",
            "_________________________________________________________________\n",
            "dropout (Dropout)            (None, 24, 24, 64)        0         \n",
            "_________________________________________________________________\n",
            "conv2d_2 (Conv2D)            (None, 24, 24, 64)        36928     \n",
            "_________________________________________________________________\n",
            "conv2d_3 (Conv2D)            (None, 24, 24, 64)        36928     \n",
            "_________________________________________________________________\n",
            "batch_normalization_1 (Batch (None, 24, 24, 64)        256       \n",
            "_________________________________________________________________\n",
            "max_pooling2d_1 (MaxPooling2 (None, 12, 12, 64)        0         \n",
            "_________________________________________________________________\n",
            "dropout_1 (Dropout)          (None, 12, 12, 64)        0         \n",
            "_________________________________________________________________\n",
            "conv2d_4 (Conv2D)            (None, 12, 12, 128)       73856     \n",
            "_________________________________________________________________\n",
            "conv2d_5 (Conv2D)            (None, 12, 12, 128)       147584    \n",
            "_________________________________________________________________\n",
            "batch_normalization_2 (Batch (None, 12, 12, 128)       512       \n",
            "_________________________________________________________________\n",
            "max_pooling2d_2 (MaxPooling2 (None, 6, 6, 128)         0         \n",
            "_________________________________________________________________\n",
            "flatten (Flatten)            (None, 4608)              0         \n",
            "_________________________________________________________________\n",
            "dense (Dense)                (None, 7)                 32263     \n",
            "=================================================================\n",
            "Total params: 366,151\n",
            "Trainable params: 365,639\n",
            "Non-trainable params: 512\n",
            "_________________________________________________________________\n"
          ],
          "name": "stdout"
        }
      ]
    },
    {
      "cell_type": "markdown",
      "metadata": {
        "id": "0VTKhzC8VRKN"
      },
      "source": [
        "**Compiling and Training Model**"
      ]
    },
    {
      "cell_type": "code",
      "metadata": {
        "id": "hZ3r1hfi1QgZ"
      },
      "source": [
        "model.compile(loss=categorical_crossentropy,  \n",
        "              optimizer=Adam(),  \n",
        "              metrics=['accuracy'])  "
      ],
      "execution_count": 11,
      "outputs": []
    },
    {
      "cell_type": "code",
      "metadata": {
        "id": "ASF0SP0KZop1"
      },
      "source": [
        "class myCallback(tf.keras.callbacks.Callback):\n",
        "        def on_epoch_end(self, epoch, logs={}):\n",
        "            if(logs.get('accuracy')>=0.99):\n",
        "                print(\"Reached 99% accuracy so cancelling training!\")\n",
        "                self.model.stop_training = True\n",
        "\n",
        "callback = myCallback()"
      ],
      "execution_count": 12,
      "outputs": []
    },
    {
      "cell_type": "code",
      "metadata": {
        "id": "o8lb5Oj11X6y",
        "colab": {
          "base_uri": "https://localhost:8080/"
        },
        "outputId": "27012330-258a-4670-e505-eda7afbaa026"
      },
      "source": [
        "history = model.fit(X_train, train_y, \n",
        "          steps_per_epoch=len(X_train) / batch_size, \n",
        "          batch_size=batch_size,  \n",
        "          epochs=epochs,  \n",
        "          verbose=1,  \n",
        "           callbacks=[callback],\n",
        "          validation_data=(X_test, test_y)\n",
        "          )  "
      ],
      "execution_count": 13,
      "outputs": [
        {
          "output_type": "stream",
          "text": [
            "Epoch 1/175\n",
            "448/448 [==============================] - 14s 23ms/step - loss: 2.1030 - accuracy: 0.2962 - val_loss: 1.6188 - val_accuracy: 0.4074\n",
            "Epoch 2/175\n",
            "448/448 [==============================] - 10s 22ms/step - loss: 1.5318 - accuracy: 0.4428 - val_loss: 1.5544 - val_accuracy: 0.4466\n",
            "Epoch 3/175\n",
            "448/448 [==============================] - 10s 22ms/step - loss: 1.3614 - accuracy: 0.4981 - val_loss: 1.2433 - val_accuracy: 0.5258\n",
            "Epoch 4/175\n",
            "448/448 [==============================] - 10s 22ms/step - loss: 1.2176 - accuracy: 0.5456 - val_loss: 1.2731 - val_accuracy: 0.5230\n",
            "Epoch 5/175\n",
            "448/448 [==============================] - 10s 22ms/step - loss: 1.1311 - accuracy: 0.5816 - val_loss: 1.2343 - val_accuracy: 0.5475\n",
            "Epoch 6/175\n",
            "448/448 [==============================] - 10s 22ms/step - loss: 1.0442 - accuracy: 0.6165 - val_loss: 1.1790 - val_accuracy: 0.5701\n",
            "Epoch 7/175\n",
            "448/448 [==============================] - 10s 22ms/step - loss: 0.9750 - accuracy: 0.6365 - val_loss: 1.2135 - val_accuracy: 0.5745\n",
            "Epoch 8/175\n",
            "448/448 [==============================] - 10s 22ms/step - loss: 0.8942 - accuracy: 0.6679 - val_loss: 1.1762 - val_accuracy: 0.5815\n",
            "Epoch 9/175\n",
            "448/448 [==============================] - 10s 22ms/step - loss: 0.8146 - accuracy: 0.7016 - val_loss: 1.1986 - val_accuracy: 0.5690\n",
            "Epoch 10/175\n",
            "448/448 [==============================] - 10s 22ms/step - loss: 0.7744 - accuracy: 0.7205 - val_loss: 1.2441 - val_accuracy: 0.5704\n",
            "Epoch 11/175\n",
            "448/448 [==============================] - 10s 22ms/step - loss: 0.6951 - accuracy: 0.7460 - val_loss: 1.2834 - val_accuracy: 0.5731\n",
            "Epoch 12/175\n",
            "448/448 [==============================] - 10s 22ms/step - loss: 0.6471 - accuracy: 0.7650 - val_loss: 1.2998 - val_accuracy: 0.5740\n",
            "Epoch 13/175\n",
            "448/448 [==============================] - 10s 22ms/step - loss: 0.5815 - accuracy: 0.7881 - val_loss: 1.3326 - val_accuracy: 0.5798\n",
            "Epoch 14/175\n",
            "448/448 [==============================] - 10s 22ms/step - loss: 0.5208 - accuracy: 0.8085 - val_loss: 1.3084 - val_accuracy: 0.5801\n",
            "Epoch 15/175\n",
            "448/448 [==============================] - 10s 22ms/step - loss: 0.4643 - accuracy: 0.8313 - val_loss: 1.3942 - val_accuracy: 0.5731\n",
            "Epoch 16/175\n",
            "448/448 [==============================] - 10s 22ms/step - loss: 0.4409 - accuracy: 0.8410 - val_loss: 1.4291 - val_accuracy: 0.5795\n",
            "Epoch 17/175\n",
            "448/448 [==============================] - 10s 22ms/step - loss: 0.4020 - accuracy: 0.8544 - val_loss: 1.5519 - val_accuracy: 0.5729\n",
            "Epoch 18/175\n",
            "448/448 [==============================] - 10s 22ms/step - loss: 0.3710 - accuracy: 0.8663 - val_loss: 1.5940 - val_accuracy: 0.5745\n",
            "Epoch 19/175\n",
            "448/448 [==============================] - 10s 22ms/step - loss: 0.3509 - accuracy: 0.8715 - val_loss: 1.5932 - val_accuracy: 0.5818\n",
            "Epoch 20/175\n",
            "448/448 [==============================] - 10s 22ms/step - loss: 0.3249 - accuracy: 0.8826 - val_loss: 1.8073 - val_accuracy: 0.5603\n",
            "Epoch 21/175\n",
            "448/448 [==============================] - 10s 22ms/step - loss: 0.3188 - accuracy: 0.8841 - val_loss: 1.7788 - val_accuracy: 0.5676\n",
            "Epoch 22/175\n",
            "448/448 [==============================] - 10s 22ms/step - loss: 0.2852 - accuracy: 0.8981 - val_loss: 1.7317 - val_accuracy: 0.5874\n",
            "Epoch 23/175\n",
            "448/448 [==============================] - 10s 22ms/step - loss: 0.2617 - accuracy: 0.9082 - val_loss: 1.7531 - val_accuracy: 0.5885\n",
            "Epoch 24/175\n",
            "448/448 [==============================] - 10s 22ms/step - loss: 0.2581 - accuracy: 0.9082 - val_loss: 1.7539 - val_accuracy: 0.5809\n",
            "Epoch 25/175\n",
            "448/448 [==============================] - 10s 22ms/step - loss: 0.2522 - accuracy: 0.9109 - val_loss: 1.8336 - val_accuracy: 0.5745\n",
            "Epoch 26/175\n",
            "448/448 [==============================] - 10s 22ms/step - loss: 0.2356 - accuracy: 0.9171 - val_loss: 1.8056 - val_accuracy: 0.5812\n",
            "Epoch 27/175\n",
            "448/448 [==============================] - 10s 22ms/step - loss: 0.2215 - accuracy: 0.9207 - val_loss: 1.9242 - val_accuracy: 0.5851\n",
            "Epoch 28/175\n",
            "448/448 [==============================] - 10s 22ms/step - loss: 0.2178 - accuracy: 0.9223 - val_loss: 1.9023 - val_accuracy: 0.5868\n",
            "Epoch 29/175\n",
            "448/448 [==============================] - 10s 22ms/step - loss: 0.2019 - accuracy: 0.9289 - val_loss: 1.9178 - val_accuracy: 0.5860\n",
            "Epoch 30/175\n",
            "448/448 [==============================] - 10s 22ms/step - loss: 0.2095 - accuracy: 0.9277 - val_loss: 1.9674 - val_accuracy: 0.5804\n",
            "Epoch 31/175\n",
            "448/448 [==============================] - 10s 22ms/step - loss: 0.2036 - accuracy: 0.9262 - val_loss: 1.9545 - val_accuracy: 0.5834\n",
            "Epoch 32/175\n",
            "448/448 [==============================] - 10s 22ms/step - loss: 0.1849 - accuracy: 0.9351 - val_loss: 2.0142 - val_accuracy: 0.5798\n",
            "Epoch 33/175\n",
            "448/448 [==============================] - 10s 22ms/step - loss: 0.1789 - accuracy: 0.9362 - val_loss: 1.9951 - val_accuracy: 0.5929\n",
            "Epoch 34/175\n",
            "448/448 [==============================] - 10s 22ms/step - loss: 0.1847 - accuracy: 0.9362 - val_loss: 1.9546 - val_accuracy: 0.5776\n",
            "Epoch 35/175\n",
            "448/448 [==============================] - 10s 22ms/step - loss: 0.1774 - accuracy: 0.9400 - val_loss: 2.1043 - val_accuracy: 0.5821\n",
            "Epoch 36/175\n",
            "448/448 [==============================] - 10s 22ms/step - loss: 0.1768 - accuracy: 0.9387 - val_loss: 1.9951 - val_accuracy: 0.5882\n",
            "Epoch 37/175\n",
            "448/448 [==============================] - 10s 22ms/step - loss: 0.1713 - accuracy: 0.9379 - val_loss: 2.0249 - val_accuracy: 0.5823\n",
            "Epoch 38/175\n",
            "448/448 [==============================] - 10s 22ms/step - loss: 0.1679 - accuracy: 0.9415 - val_loss: 2.0939 - val_accuracy: 0.5862\n",
            "Epoch 39/175\n",
            "448/448 [==============================] - 10s 22ms/step - loss: 0.1525 - accuracy: 0.9487 - val_loss: 2.0674 - val_accuracy: 0.5854\n",
            "Epoch 40/175\n",
            "448/448 [==============================] - 10s 22ms/step - loss: 0.1590 - accuracy: 0.9452 - val_loss: 2.0984 - val_accuracy: 0.5901\n",
            "Epoch 41/175\n",
            "448/448 [==============================] - 10s 22ms/step - loss: 0.1549 - accuracy: 0.9446 - val_loss: 2.1710 - val_accuracy: 0.5840\n",
            "Epoch 42/175\n",
            "448/448 [==============================] - 10s 22ms/step - loss: 0.1537 - accuracy: 0.9469 - val_loss: 2.2029 - val_accuracy: 0.5890\n",
            "Epoch 43/175\n",
            "448/448 [==============================] - 10s 22ms/step - loss: 0.1441 - accuracy: 0.9508 - val_loss: 2.1612 - val_accuracy: 0.5882\n",
            "Epoch 44/175\n",
            "448/448 [==============================] - 10s 22ms/step - loss: 0.1437 - accuracy: 0.9514 - val_loss: 2.0816 - val_accuracy: 0.5907\n",
            "Epoch 45/175\n",
            "448/448 [==============================] - 10s 22ms/step - loss: 0.1370 - accuracy: 0.9520 - val_loss: 2.1847 - val_accuracy: 0.5929\n",
            "Epoch 46/175\n",
            "448/448 [==============================] - 10s 22ms/step - loss: 0.1314 - accuracy: 0.9539 - val_loss: 2.1702 - val_accuracy: 0.5837\n",
            "Epoch 47/175\n",
            "448/448 [==============================] - 10s 22ms/step - loss: 0.1463 - accuracy: 0.9490 - val_loss: 2.2037 - val_accuracy: 0.5938\n",
            "Epoch 48/175\n",
            "448/448 [==============================] - 10s 22ms/step - loss: 0.1431 - accuracy: 0.9505 - val_loss: 2.2224 - val_accuracy: 0.5815\n",
            "Epoch 49/175\n",
            "448/448 [==============================] - 10s 22ms/step - loss: 0.1263 - accuracy: 0.9577 - val_loss: 2.2449 - val_accuracy: 0.5790\n",
            "Epoch 50/175\n",
            "448/448 [==============================] - 10s 22ms/step - loss: 0.1378 - accuracy: 0.9526 - val_loss: 2.2753 - val_accuracy: 0.5904\n",
            "Epoch 51/175\n",
            "448/448 [==============================] - 10s 22ms/step - loss: 0.1365 - accuracy: 0.9540 - val_loss: 2.2374 - val_accuracy: 0.5834\n",
            "Epoch 52/175\n",
            "448/448 [==============================] - 10s 22ms/step - loss: 0.1253 - accuracy: 0.9572 - val_loss: 2.2559 - val_accuracy: 0.5815\n",
            "Epoch 53/175\n",
            "448/448 [==============================] - 10s 22ms/step - loss: 0.1247 - accuracy: 0.9561 - val_loss: 2.2243 - val_accuracy: 0.5957\n",
            "Epoch 54/175\n",
            "448/448 [==============================] - 10s 22ms/step - loss: 0.1211 - accuracy: 0.9592 - val_loss: 2.3347 - val_accuracy: 0.5885\n",
            "Epoch 55/175\n",
            "448/448 [==============================] - 10s 22ms/step - loss: 0.1153 - accuracy: 0.9606 - val_loss: 2.3351 - val_accuracy: 0.5787\n",
            "Epoch 56/175\n",
            "448/448 [==============================] - 10s 22ms/step - loss: 0.1187 - accuracy: 0.9596 - val_loss: 2.3312 - val_accuracy: 0.5952\n",
            "Epoch 57/175\n",
            "448/448 [==============================] - 10s 22ms/step - loss: 0.1152 - accuracy: 0.9594 - val_loss: 2.2875 - val_accuracy: 0.5935\n",
            "Epoch 58/175\n",
            "448/448 [==============================] - 10s 22ms/step - loss: 0.1107 - accuracy: 0.9610 - val_loss: 2.3014 - val_accuracy: 0.5943\n",
            "Epoch 59/175\n",
            "448/448 [==============================] - 10s 22ms/step - loss: 0.1125 - accuracy: 0.9649 - val_loss: 2.4076 - val_accuracy: 0.5913\n",
            "Epoch 60/175\n",
            "448/448 [==============================] - 10s 22ms/step - loss: 0.1144 - accuracy: 0.9624 - val_loss: 2.3952 - val_accuracy: 0.5854\n",
            "Epoch 61/175\n",
            "448/448 [==============================] - 10s 22ms/step - loss: 0.1150 - accuracy: 0.9614 - val_loss: 2.3421 - val_accuracy: 0.5918\n",
            "Epoch 62/175\n",
            "448/448 [==============================] - 10s 22ms/step - loss: 0.1045 - accuracy: 0.9664 - val_loss: 2.4105 - val_accuracy: 0.5862\n",
            "Epoch 63/175\n",
            "448/448 [==============================] - 10s 22ms/step - loss: 0.1135 - accuracy: 0.9624 - val_loss: 2.3686 - val_accuracy: 0.5821\n",
            "Epoch 64/175\n",
            "448/448 [==============================] - 10s 22ms/step - loss: 0.1102 - accuracy: 0.9627 - val_loss: 2.2913 - val_accuracy: 0.5832\n",
            "Epoch 65/175\n",
            "448/448 [==============================] - 10s 22ms/step - loss: 0.1046 - accuracy: 0.9645 - val_loss: 2.3618 - val_accuracy: 0.5940\n",
            "Epoch 66/175\n",
            "448/448 [==============================] - 10s 22ms/step - loss: 0.0961 - accuracy: 0.9684 - val_loss: 2.3797 - val_accuracy: 0.5921\n",
            "Epoch 67/175\n",
            "448/448 [==============================] - 10s 22ms/step - loss: 0.0989 - accuracy: 0.9687 - val_loss: 2.3950 - val_accuracy: 0.5779\n",
            "Epoch 68/175\n",
            "448/448 [==============================] - 10s 22ms/step - loss: 0.0971 - accuracy: 0.9655 - val_loss: 2.4394 - val_accuracy: 0.5862\n",
            "Epoch 69/175\n",
            "448/448 [==============================] - 10s 22ms/step - loss: 0.1078 - accuracy: 0.9622 - val_loss: 2.3600 - val_accuracy: 0.5837\n",
            "Epoch 70/175\n",
            "448/448 [==============================] - 10s 22ms/step - loss: 0.0985 - accuracy: 0.9670 - val_loss: 2.4183 - val_accuracy: 0.5949\n",
            "Epoch 71/175\n",
            "448/448 [==============================] - 10s 22ms/step - loss: 0.0998 - accuracy: 0.9681 - val_loss: 2.3575 - val_accuracy: 0.5834\n",
            "Epoch 72/175\n",
            "448/448 [==============================] - 10s 22ms/step - loss: 0.0903 - accuracy: 0.9697 - val_loss: 2.4655 - val_accuracy: 0.5832\n",
            "Epoch 73/175\n",
            "448/448 [==============================] - 10s 22ms/step - loss: 0.0920 - accuracy: 0.9702 - val_loss: 2.4930 - val_accuracy: 0.5860\n",
            "Epoch 74/175\n",
            "448/448 [==============================] - 10s 22ms/step - loss: 0.0986 - accuracy: 0.9679 - val_loss: 2.4088 - val_accuracy: 0.5848\n",
            "Epoch 75/175\n",
            "448/448 [==============================] - 10s 22ms/step - loss: 0.0948 - accuracy: 0.9698 - val_loss: 2.4980 - val_accuracy: 0.5801\n",
            "Epoch 76/175\n",
            "448/448 [==============================] - 10s 22ms/step - loss: 0.0842 - accuracy: 0.9728 - val_loss: 2.5413 - val_accuracy: 0.5896\n",
            "Epoch 77/175\n",
            "448/448 [==============================] - 10s 22ms/step - loss: 0.0965 - accuracy: 0.9680 - val_loss: 2.4521 - val_accuracy: 0.5921\n",
            "Epoch 78/175\n",
            "448/448 [==============================] - 10s 22ms/step - loss: 0.0914 - accuracy: 0.9714 - val_loss: 2.4600 - val_accuracy: 0.6002\n",
            "Epoch 79/175\n",
            "448/448 [==============================] - 10s 22ms/step - loss: 0.0873 - accuracy: 0.9704 - val_loss: 2.4500 - val_accuracy: 0.5857\n",
            "Epoch 80/175\n",
            "448/448 [==============================] - 10s 22ms/step - loss: 0.0922 - accuracy: 0.9703 - val_loss: 2.3614 - val_accuracy: 0.5879\n",
            "Epoch 81/175\n",
            "448/448 [==============================] - 10s 22ms/step - loss: 0.0904 - accuracy: 0.9702 - val_loss: 2.4569 - val_accuracy: 0.5887\n",
            "Epoch 82/175\n",
            "448/448 [==============================] - 10s 22ms/step - loss: 0.0829 - accuracy: 0.9742 - val_loss: 2.4872 - val_accuracy: 0.5834\n",
            "Epoch 83/175\n",
            "448/448 [==============================] - 10s 22ms/step - loss: 0.0820 - accuracy: 0.9733 - val_loss: 2.5014 - val_accuracy: 0.5692\n",
            "Epoch 84/175\n",
            "448/448 [==============================] - 10s 22ms/step - loss: 0.0867 - accuracy: 0.9722 - val_loss: 2.4806 - val_accuracy: 0.5865\n",
            "Epoch 85/175\n",
            "448/448 [==============================] - 10s 22ms/step - loss: 0.0775 - accuracy: 0.9742 - val_loss: 2.4820 - val_accuracy: 0.5926\n",
            "Epoch 86/175\n",
            "448/448 [==============================] - 10s 22ms/step - loss: 0.0802 - accuracy: 0.9732 - val_loss: 2.5363 - val_accuracy: 0.5840\n",
            "Epoch 87/175\n",
            "448/448 [==============================] - 10s 22ms/step - loss: 0.0823 - accuracy: 0.9703 - val_loss: 2.4834 - val_accuracy: 0.5890\n",
            "Epoch 88/175\n",
            "448/448 [==============================] - 10s 22ms/step - loss: 0.0786 - accuracy: 0.9751 - val_loss: 2.5238 - val_accuracy: 0.5832\n",
            "Epoch 89/175\n",
            "448/448 [==============================] - 10s 22ms/step - loss: 0.0877 - accuracy: 0.9729 - val_loss: 2.5548 - val_accuracy: 0.5974\n",
            "Epoch 90/175\n",
            "448/448 [==============================] - 10s 22ms/step - loss: 0.0764 - accuracy: 0.9741 - val_loss: 2.5885 - val_accuracy: 0.5684\n",
            "Epoch 91/175\n",
            "448/448 [==============================] - 10s 22ms/step - loss: 0.0754 - accuracy: 0.9757 - val_loss: 2.4675 - val_accuracy: 0.5946\n",
            "Epoch 92/175\n",
            "448/448 [==============================] - 10s 22ms/step - loss: 0.0801 - accuracy: 0.9745 - val_loss: 2.4621 - val_accuracy: 0.5885\n",
            "Epoch 93/175\n",
            "448/448 [==============================] - 10s 22ms/step - loss: 0.0778 - accuracy: 0.9749 - val_loss: 2.4947 - val_accuracy: 0.5862\n",
            "Epoch 94/175\n",
            "448/448 [==============================] - 10s 22ms/step - loss: 0.0753 - accuracy: 0.9764 - val_loss: 2.5615 - val_accuracy: 0.5991\n",
            "Epoch 95/175\n",
            "448/448 [==============================] - 10s 22ms/step - loss: 0.0755 - accuracy: 0.9754 - val_loss: 2.4937 - val_accuracy: 0.5960\n",
            "Epoch 96/175\n",
            "448/448 [==============================] - 10s 22ms/step - loss: 0.0764 - accuracy: 0.9765 - val_loss: 2.4410 - val_accuracy: 0.5924\n",
            "Epoch 97/175\n",
            "448/448 [==============================] - 10s 22ms/step - loss: 0.0752 - accuracy: 0.9745 - val_loss: 2.5866 - val_accuracy: 0.5804\n",
            "Epoch 98/175\n",
            "448/448 [==============================] - 10s 22ms/step - loss: 0.0763 - accuracy: 0.9749 - val_loss: 2.5120 - val_accuracy: 0.5860\n",
            "Epoch 99/175\n",
            "448/448 [==============================] - 10s 22ms/step - loss: 0.0708 - accuracy: 0.9765 - val_loss: 2.5351 - val_accuracy: 0.5926\n",
            "Epoch 100/175\n",
            "448/448 [==============================] - 10s 22ms/step - loss: 0.0760 - accuracy: 0.9761 - val_loss: 2.5937 - val_accuracy: 0.5801\n",
            "Epoch 101/175\n",
            "448/448 [==============================] - 10s 22ms/step - loss: 0.0833 - accuracy: 0.9751 - val_loss: 2.5526 - val_accuracy: 0.5949\n",
            "Epoch 102/175\n",
            "448/448 [==============================] - 10s 22ms/step - loss: 0.0726 - accuracy: 0.9772 - val_loss: 2.5597 - val_accuracy: 0.5918\n",
            "Epoch 103/175\n",
            "448/448 [==============================] - 10s 22ms/step - loss: 0.0684 - accuracy: 0.9783 - val_loss: 2.5496 - val_accuracy: 0.5954\n",
            "Epoch 104/175\n",
            "448/448 [==============================] - 10s 22ms/step - loss: 0.0678 - accuracy: 0.9794 - val_loss: 2.5854 - val_accuracy: 0.5904\n",
            "Epoch 105/175\n",
            "448/448 [==============================] - 10s 22ms/step - loss: 0.0683 - accuracy: 0.9794 - val_loss: 2.5114 - val_accuracy: 0.5809\n",
            "Epoch 106/175\n",
            "448/448 [==============================] - 10s 22ms/step - loss: 0.0721 - accuracy: 0.9770 - val_loss: 2.5543 - val_accuracy: 0.5907\n",
            "Epoch 107/175\n",
            "448/448 [==============================] - 10s 22ms/step - loss: 0.0720 - accuracy: 0.9756 - val_loss: 2.5956 - val_accuracy: 0.5985\n",
            "Epoch 108/175\n",
            "448/448 [==============================] - 10s 22ms/step - loss: 0.0713 - accuracy: 0.9763 - val_loss: 2.4407 - val_accuracy: 0.6032\n",
            "Epoch 109/175\n",
            "448/448 [==============================] - 10s 22ms/step - loss: 0.0749 - accuracy: 0.9771 - val_loss: 2.5437 - val_accuracy: 0.6032\n",
            "Epoch 110/175\n",
            "448/448 [==============================] - 10s 22ms/step - loss: 0.0701 - accuracy: 0.9789 - val_loss: 2.6110 - val_accuracy: 0.5882\n",
            "Epoch 111/175\n",
            "448/448 [==============================] - 10s 22ms/step - loss: 0.0683 - accuracy: 0.9782 - val_loss: 2.5349 - val_accuracy: 0.5885\n",
            "Epoch 112/175\n",
            "448/448 [==============================] - 10s 22ms/step - loss: 0.0707 - accuracy: 0.9776 - val_loss: 2.5652 - val_accuracy: 0.5893\n",
            "Epoch 113/175\n",
            "448/448 [==============================] - 10s 22ms/step - loss: 0.0667 - accuracy: 0.9793 - val_loss: 2.5547 - val_accuracy: 0.5832\n",
            "Epoch 114/175\n",
            "448/448 [==============================] - 10s 22ms/step - loss: 0.0718 - accuracy: 0.9782 - val_loss: 2.6136 - val_accuracy: 0.5879\n",
            "Epoch 115/175\n",
            "448/448 [==============================] - 10s 22ms/step - loss: 0.0677 - accuracy: 0.9796 - val_loss: 2.5939 - val_accuracy: 0.5874\n",
            "Epoch 116/175\n",
            "448/448 [==============================] - 10s 23ms/step - loss: 0.0608 - accuracy: 0.9811 - val_loss: 2.5155 - val_accuracy: 0.5952\n",
            "Epoch 117/175\n",
            "448/448 [==============================] - 10s 22ms/step - loss: 0.0607 - accuracy: 0.9813 - val_loss: 2.6159 - val_accuracy: 0.5868\n",
            "Epoch 118/175\n",
            "448/448 [==============================] - 10s 22ms/step - loss: 0.0594 - accuracy: 0.9823 - val_loss: 2.5419 - val_accuracy: 0.5929\n",
            "Epoch 119/175\n",
            "448/448 [==============================] - 10s 22ms/step - loss: 0.0607 - accuracy: 0.9813 - val_loss: 2.5272 - val_accuracy: 0.5862\n",
            "Epoch 120/175\n",
            "448/448 [==============================] - 10s 22ms/step - loss: 0.0647 - accuracy: 0.9805 - val_loss: 2.5995 - val_accuracy: 0.5929\n",
            "Epoch 121/175\n",
            "448/448 [==============================] - 10s 22ms/step - loss: 0.0646 - accuracy: 0.9801 - val_loss: 2.5635 - val_accuracy: 0.5887\n",
            "Epoch 122/175\n",
            "448/448 [==============================] - 10s 22ms/step - loss: 0.0632 - accuracy: 0.9798 - val_loss: 2.5753 - val_accuracy: 0.5926\n",
            "Epoch 123/175\n",
            "448/448 [==============================] - 10s 22ms/step - loss: 0.0739 - accuracy: 0.9790 - val_loss: 2.5697 - val_accuracy: 0.5929\n",
            "Epoch 124/175\n",
            "448/448 [==============================] - 10s 22ms/step - loss: 0.0604 - accuracy: 0.9805 - val_loss: 2.5625 - val_accuracy: 0.5940\n",
            "Epoch 125/175\n",
            "448/448 [==============================] - 10s 22ms/step - loss: 0.0654 - accuracy: 0.9810 - val_loss: 2.5608 - val_accuracy: 0.5921\n",
            "Epoch 126/175\n",
            "448/448 [==============================] - 10s 22ms/step - loss: 0.0560 - accuracy: 0.9811 - val_loss: 2.5938 - val_accuracy: 0.5893\n",
            "Epoch 127/175\n",
            "448/448 [==============================] - 10s 22ms/step - loss: 0.0630 - accuracy: 0.9816 - val_loss: 2.5341 - val_accuracy: 0.5893\n",
            "Epoch 128/175\n",
            "448/448 [==============================] - 10s 22ms/step - loss: 0.0597 - accuracy: 0.9822 - val_loss: 2.6072 - val_accuracy: 0.5921\n",
            "Epoch 129/175\n",
            "448/448 [==============================] - 10s 22ms/step - loss: 0.0614 - accuracy: 0.9814 - val_loss: 2.6022 - val_accuracy: 0.5949\n",
            "Epoch 130/175\n",
            "448/448 [==============================] - 10s 22ms/step - loss: 0.0587 - accuracy: 0.9824 - val_loss: 2.5470 - val_accuracy: 0.5949\n",
            "Epoch 131/175\n",
            "448/448 [==============================] - 10s 22ms/step - loss: 0.0621 - accuracy: 0.9802 - val_loss: 2.5863 - val_accuracy: 0.5949\n",
            "Epoch 132/175\n",
            "448/448 [==============================] - 10s 22ms/step - loss: 0.0695 - accuracy: 0.9778 - val_loss: 2.5675 - val_accuracy: 0.5865\n",
            "Epoch 133/175\n",
            "448/448 [==============================] - 10s 22ms/step - loss: 0.0563 - accuracy: 0.9823 - val_loss: 2.5328 - val_accuracy: 0.5979\n",
            "Epoch 134/175\n",
            "448/448 [==============================] - 10s 22ms/step - loss: 0.0631 - accuracy: 0.9806 - val_loss: 2.5914 - val_accuracy: 0.5940\n",
            "Epoch 135/175\n",
            "448/448 [==============================] - 10s 22ms/step - loss: 0.0605 - accuracy: 0.9818 - val_loss: 2.5848 - val_accuracy: 0.5985\n",
            "Epoch 136/175\n",
            "448/448 [==============================] - 10s 22ms/step - loss: 0.0535 - accuracy: 0.9833 - val_loss: 2.6080 - val_accuracy: 0.5946\n",
            "Epoch 137/175\n",
            "448/448 [==============================] - 10s 22ms/step - loss: 0.0573 - accuracy: 0.9834 - val_loss: 2.5446 - val_accuracy: 0.5977\n",
            "Epoch 138/175\n",
            "448/448 [==============================] - 10s 23ms/step - loss: 0.0552 - accuracy: 0.9831 - val_loss: 2.6069 - val_accuracy: 0.5924\n",
            "Epoch 139/175\n",
            "448/448 [==============================] - 10s 23ms/step - loss: 0.0555 - accuracy: 0.9811 - val_loss: 2.5421 - val_accuracy: 0.5968\n",
            "Epoch 140/175\n",
            "448/448 [==============================] - 10s 22ms/step - loss: 0.0569 - accuracy: 0.9814 - val_loss: 2.6587 - val_accuracy: 0.5932\n",
            "Epoch 141/175\n",
            "448/448 [==============================] - 10s 23ms/step - loss: 0.0571 - accuracy: 0.9825 - val_loss: 2.6256 - val_accuracy: 0.5943\n",
            "Epoch 142/175\n",
            "448/448 [==============================] - 10s 23ms/step - loss: 0.0603 - accuracy: 0.9828 - val_loss: 2.5892 - val_accuracy: 0.5991\n",
            "Epoch 143/175\n",
            "448/448 [==============================] - 10s 23ms/step - loss: 0.0586 - accuracy: 0.9825 - val_loss: 2.6054 - val_accuracy: 0.5885\n",
            "Epoch 144/175\n",
            "448/448 [==============================] - 10s 23ms/step - loss: 0.0599 - accuracy: 0.9823 - val_loss: 2.6200 - val_accuracy: 0.5899\n",
            "Epoch 145/175\n",
            "448/448 [==============================] - 10s 22ms/step - loss: 0.0593 - accuracy: 0.9818 - val_loss: 2.5854 - val_accuracy: 0.5868\n",
            "Epoch 146/175\n",
            "448/448 [==============================] - 10s 23ms/step - loss: 0.0555 - accuracy: 0.9843 - val_loss: 2.5812 - val_accuracy: 0.5896\n",
            "Epoch 147/175\n",
            "448/448 [==============================] - 10s 23ms/step - loss: 0.0527 - accuracy: 0.9821 - val_loss: 2.6322 - val_accuracy: 0.5965\n",
            "Epoch 148/175\n",
            "448/448 [==============================] - 10s 23ms/step - loss: 0.0547 - accuracy: 0.9842 - val_loss: 2.6936 - val_accuracy: 0.5938\n",
            "Epoch 149/175\n",
            "448/448 [==============================] - 10s 23ms/step - loss: 0.0519 - accuracy: 0.9837 - val_loss: 2.6553 - val_accuracy: 0.5862\n",
            "Epoch 150/175\n",
            "448/448 [==============================] - 10s 22ms/step - loss: 0.0555 - accuracy: 0.9836 - val_loss: 2.6852 - val_accuracy: 0.5896\n",
            "Epoch 151/175\n",
            "448/448 [==============================] - 10s 23ms/step - loss: 0.0598 - accuracy: 0.9810 - val_loss: 2.6507 - val_accuracy: 0.5921\n",
            "Epoch 152/175\n",
            "448/448 [==============================] - 10s 22ms/step - loss: 0.0555 - accuracy: 0.9832 - val_loss: 2.7183 - val_accuracy: 0.5938\n",
            "Epoch 153/175\n",
            "448/448 [==============================] - 10s 22ms/step - loss: 0.0490 - accuracy: 0.9847 - val_loss: 2.6140 - val_accuracy: 0.5885\n",
            "Epoch 154/175\n",
            "448/448 [==============================] - 10s 22ms/step - loss: 0.0528 - accuracy: 0.9826 - val_loss: 2.5729 - val_accuracy: 0.5896\n",
            "Epoch 155/175\n",
            "448/448 [==============================] - 10s 22ms/step - loss: 0.0556 - accuracy: 0.9819 - val_loss: 2.6662 - val_accuracy: 0.5907\n",
            "Epoch 156/175\n",
            "448/448 [==============================] - 10s 22ms/step - loss: 0.0576 - accuracy: 0.9838 - val_loss: 2.6423 - val_accuracy: 0.5893\n",
            "Epoch 157/175\n",
            "448/448 [==============================] - 10s 22ms/step - loss: 0.0522 - accuracy: 0.9842 - val_loss: 2.5882 - val_accuracy: 0.5915\n",
            "Epoch 158/175\n",
            "448/448 [==============================] - 10s 22ms/step - loss: 0.0508 - accuracy: 0.9857 - val_loss: 2.6159 - val_accuracy: 0.5940\n",
            "Epoch 159/175\n",
            "448/448 [==============================] - 10s 22ms/step - loss: 0.0545 - accuracy: 0.9846 - val_loss: 2.8219 - val_accuracy: 0.5829\n",
            "Epoch 160/175\n",
            "448/448 [==============================] - 10s 23ms/step - loss: 0.0456 - accuracy: 0.9853 - val_loss: 2.6936 - val_accuracy: 0.5837\n",
            "Epoch 161/175\n",
            "448/448 [==============================] - 10s 22ms/step - loss: 0.0504 - accuracy: 0.9869 - val_loss: 2.5804 - val_accuracy: 0.5940\n",
            "Epoch 162/175\n",
            "448/448 [==============================] - 10s 22ms/step - loss: 0.0509 - accuracy: 0.9852 - val_loss: 2.6976 - val_accuracy: 0.5851\n",
            "Epoch 163/175\n",
            "448/448 [==============================] - 10s 22ms/step - loss: 0.0481 - accuracy: 0.9846 - val_loss: 2.6349 - val_accuracy: 0.5899\n",
            "Epoch 164/175\n",
            "448/448 [==============================] - 10s 22ms/step - loss: 0.0525 - accuracy: 0.9852 - val_loss: 2.6719 - val_accuracy: 0.5826\n",
            "Epoch 165/175\n",
            "448/448 [==============================] - 10s 22ms/step - loss: 0.0515 - accuracy: 0.9845 - val_loss: 2.6654 - val_accuracy: 0.5879\n",
            "Epoch 166/175\n",
            "448/448 [==============================] - 10s 22ms/step - loss: 0.0492 - accuracy: 0.9857 - val_loss: 2.6665 - val_accuracy: 0.5879\n",
            "Epoch 167/175\n",
            "448/448 [==============================] - 10s 23ms/step - loss: 0.0501 - accuracy: 0.9864 - val_loss: 2.6680 - val_accuracy: 0.5882\n",
            "Epoch 168/175\n",
            "448/448 [==============================] - 10s 22ms/step - loss: 0.0522 - accuracy: 0.9840 - val_loss: 2.5555 - val_accuracy: 0.5940\n",
            "Epoch 169/175\n",
            "448/448 [==============================] - 10s 22ms/step - loss: 0.0554 - accuracy: 0.9849 - val_loss: 2.5600 - val_accuracy: 0.5974\n",
            "Epoch 170/175\n",
            "448/448 [==============================] - 10s 22ms/step - loss: 0.0553 - accuracy: 0.9834 - val_loss: 2.6138 - val_accuracy: 0.5896\n",
            "Epoch 171/175\n",
            "448/448 [==============================] - 10s 23ms/step - loss: 0.0539 - accuracy: 0.9848 - val_loss: 2.5796 - val_accuracy: 0.5921\n",
            "Epoch 172/175\n",
            "448/448 [==============================] - 10s 23ms/step - loss: 0.0520 - accuracy: 0.9853 - val_loss: 2.6579 - val_accuracy: 0.5899\n",
            "Epoch 173/175\n",
            "448/448 [==============================] - 10s 23ms/step - loss: 0.0473 - accuracy: 0.9869 - val_loss: 2.6866 - val_accuracy: 0.5874\n",
            "Epoch 174/175\n",
            "448/448 [==============================] - 10s 22ms/step - loss: 0.0505 - accuracy: 0.9854 - val_loss: 2.5912 - val_accuracy: 0.5879\n",
            "Epoch 175/175\n",
            "448/448 [==============================] - 10s 23ms/step - loss: 0.0534 - accuracy: 0.9837 - val_loss: 2.6600 - val_accuracy: 0.5848\n"
          ],
          "name": "stdout"
        }
      ]
    },
    {
      "cell_type": "code",
      "metadata": {
        "colab": {
          "base_uri": "https://localhost:8080/",
          "height": 295
        },
        "id": "WyzY058uOeEP",
        "outputId": "d4f50066-c6b0-4246-bf80-e332b8cfc5ab"
      },
      "source": [
        "plt.plot(history.history['accuracy'][0:100])\n",
        "plt.plot(history.history['val_accuracy'][0:100])\n",
        "plt.title('model accuracy')\n",
        "plt.ylabel('accuracy')\n",
        "plt.xlabel('epoch')\n",
        "plt.legend(['training_accuracy', 'validation_accuracy'], loc='lower right')\n",
        "plt.show()"
      ],
      "execution_count": 14,
      "outputs": [
        {
          "output_type": "display_data",
          "data": {
            "image/png": "[encoded data removed]",
            "text/plain": [
              "<Figure size 432x288 with 1 Axes>"
            ]
          },
          "metadata": {
            "tags": [],
            "needs_background": "light"
          }
        }
      ]
    },
    {
      "cell_type": "code",
      "metadata": {
        "colab": {
          "base_uri": "https://localhost:8080/",
          "height": 295
        },
        "id": "-XlKR69VR--4",
        "outputId": "24fa7654-5a4a-4430-d79e-dc0806f6512a"
      },
      "source": [
        "plt.plot(history.history['loss'][0:100])\n",
        "plt.plot(history.history['val_loss'][0:100])\n",
        "plt.title('model loss')\n",
        "plt.ylabel('loss')\n",
        "plt.xlabel('epoch')\n",
        "plt.legend(['training_loss', 'validation_loss'], loc='upper right')\n",
        "plt.show()"
      ],
      "execution_count": 16,
      "outputs": [
        {
          "output_type": "display_data",
          "data": {
            "image/png": "[encoded data removed]",
            "text/plain": [
              "<Figure size 432x288 with 1 Axes>"
            ]
          },
          "metadata": {
            "tags": [],
            "needs_background": "light"
          }
        }
      ]
    },
    {
      "cell_type": "markdown",
      "metadata": {
        "id": "AJ85iiv0VYG4"
      },
      "source": [
        "**Save Model**"
      ]
    },
    {
      "cell_type": "code",
      "metadata": {
        "id": "cm95vbYu1h6K"
      },
      "source": [
        "m_json = model.to_json()  \n",
        "with open(\"m.json\", \"w\") as json_file:  \n",
        "    json_file.write(m_json)  \n",
        "model.save_weights(\"Detection_Emotion.h5\") "
      ],
      "execution_count": 15,
      "outputs": []
    },
    {
      "cell_type": "markdown",
      "metadata": {
        "id": "C1aQsmjfWEEU"
      },
      "source": [
        "## After Saving the model, I’ll use Opencv to predict Emotions in Real-Time. But first of all, download the saved weights and model. We’ll work on our local machines now. why?? Because VideoCapture doesn’t work in google colab, in other words, using a webcam in google colab isn’t easy.\n",
        "\n",
        "\n",
        "Go to Real_Time_Detection.py file."
      ]
    }
  ]
}